{
  "nbformat": 4,
  "nbformat_minor": 0,
  "metadata": {
    "colab": {
      "name": "Untitled0.ipynb",
      "provenance": [],
      "authorship_tag": "ABX9TyPhimcC3NhRm0MAtSTsvF4Y",
      "include_colab_link": true
    },
    "kernelspec": {
      "name": "python3",
      "display_name": "Python 3"
    }
  },
  "cells": [
    {
      "cell_type": "markdown",
      "metadata": {
        "id": "view-in-github",
        "colab_type": "text"
      },
      "source": [
        "<a href=\"https://colab.research.google.com/github/yunminhui/AI/blob/master/%EC%9D%B8%EA%B3%B5%EC%A7%80%EB%8A%A5%EC%9D%84%20%ED%99%9C%EC%9A%A9%ED%95%9C%20%EC%A0%9C%ED%92%88%20%EB%B0%8F%20%EC%84%9C%EB%B9%84%EC%8A%A4.ipynb\" target=\"_parent\"><img src=\"https://colab.research.google.com/assets/colab-badge.svg\" alt=\"Open In Colab\"/></a>"
      ]
    },
    {
      "cell_type": "markdown",
      "metadata": {
        "id": "G3TJ13Pkbi4q",
        "colab_type": "text"
      },
      "source": [
        "\n",
        "# **인공지능**을 활용한 제품 및 서비스\n",
        "\n",
        "## 1. 언어\n",
        "  * 제품 및 서비스 - 구글 번역기   \n",
        "  * 기술      \n",
        "    * 신경망 기계 번역(GNMT) - 인공 신경망을 활용한 기계학습을 통해 언어 번역 모델 생성 및 번역 서비스 제공 기술   \n",
        "       원리\n",
        "    ![인공신경망원리](http://blog.skby.net/blog/wp-content/uploads/2019/01/1-2.png)\n",
        "   기계어 재조합된 문장 A를 문장C로 번역</br> -> A영역의 단어들을 숫자 화 후 순서 재조합</br> -> A영역의 모든 숫자를 Rule 1 로 적용, B영역 숫자로 재배치</br> -> B영역의 모든 숫자를 Rule2로 적용, C영역 숫자로 재배치   \n",
        "\n",
        "      + 제로샷(zero shot) - 일종의 전이 학습으로, 시스템이 한번도 해보지 않은 언어간 번역을 다른 언어간 번역 데이터를 이용해 유추해내는 기술\n",
        "    ![제로샷원리](http://image.zdnet.co.kr/2017/03/02/sontech_3A1pH4oBebf1.jpg)\n",
        "    원리    \n",
        "    다중 언어들 사이 번역을 위한 단일한 NMT 모델을 사용하면서 모델 아키텍처를 변경할 필요없이 인공 토큰을 입력한 문장을 붙이는 방법으로 필요한 언어로 번역   \n",
        "Ex) 영-한,영-일 번역 기술, 한국어에 특별한 꼬리표를 달아서 한국어를 영어로 번역한 뒤 다시 일본어로 번역해주는 과정을 거침\n",
        "    \n",
        "\n",
        "       \n",
        "## 2. 음성\n",
        "  * 제품 및 서비스 -  AI 스피커   \n",
        "  * 기술   \n",
        "    ![음성인식 기술](http://blog.skby.net/blog/wp-content/uploads/2019/01/1-7.png)\n",
        "      * ASR(Automatic Speech Recognition) - 발화자의 명령어를 컴퓨터가 이해하는 언어(Text)로 자동 변환하는 기술로 인공신경망 엔진을 활용하여 단어와 문장을 학습\n",
        "      * NLU(Natural Language Understanding) - 주어진 Text를 어떤 의미 인지를 파악하는 기술. 발화자의 의도를 파악하기 위하여 다양한 유사패턴을 학습\n",
        "      * TTS(Text to Speech) - Text 문장을 음성으로 변환하는 기술. 사람이 말하듯이 속도나 높낮이 조절. \n",
        "    \n",
        "    \n",
        "\n",
        "## 3. 이미지\n",
        "  * 제품 및 서비스 - 구글 렌즈 \n",
        "  * 기술\n",
        "      * 딥페이크(Deep Fake) - 사진과 비디오의 얼굴을 인식하고 이를 다른 얼굴로 바꾸는 심층적인 Trainning 과정을 거쳐 얼굴을 바꿀 수 있는 소프트웨어(여기서 Trainning이란, 인공지능이 얼굴 이미지를 나름대로 부위별로 분해해서 다시 원본 이미지에 가깝게 재조립하는 과정을 반복하는 과정   \n",
        "      원리\n",
        "      ![딥페이크원리](https://t1.daumcdn.net/cfile/tistory/994B26445C4EA68E2C?original)\n",
        "      ![딥페이크과정](https://www.scip.ch/en/labs/images/deepfake_autoencoder_part2.gif)\n",
        "        -> Encoder로 얼굴데이터를 쪼개는 과정을 반복   \n",
        "       -> 얼굴데이터를 다시 원본으로 되돌리는 작업은 X와 Y의 Decoder가 학습   \n",
        "       -> X의 데이터를 Y의 얼굴을 조립하는 방법을 알고있는 Y의 Decoder로 넘기게되면, X의 데이터(얼굴 구성요소)가 Y의 얼굴자리에 위치하게 함.   \n",
        "      * 생성적 적대 신경망(GAN) - 이미지의 진위 여부를 판단하는 '감별자', 알고리즘과 이미지를 만들어내는 '생성자' 역할을 하는 두 가지 알고리즘으로 구성. 두 알고리즘이 서로 대립하는 과정을 통해 원본과 오차를 줄여, 진짜인지 가짜 인지를 판단하기 힘든 콘텐츠를 생성\n",
        "\n",
        "\n",
        "\n",
        "## 4, 자율주행\n",
        "  * 제품 및 서비스 - 현대 자동차\n",
        "  * 기술\n",
        "      * 스마트 크루즈 컨트롤(SCC-ML) - 인공지능 기술을 기반으로 자동차 스스로 운전자의 주행 성향을 파악해 운전자 맞춤형 SCC를 구현\n",
        "\n",
        "\n",
        "\n",
        "\n",
        "\n",
        "\n",
        "\n",
        "\n"
      ]
    }
  ]
}